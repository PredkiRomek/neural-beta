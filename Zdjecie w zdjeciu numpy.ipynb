{
 "cells": [
  {
   "cell_type": "code",
   "execution_count": 264,
   "metadata": {},
   "outputs": [],
   "source": [
    "import os\n",
    "import cv2\n",
    "import numpy as np\n",
    "import torch\n",
    "from PIL import Image"
   ]
  },
  {
   "cell_type": "code",
   "execution_count": 265,
   "metadata": {},
   "outputs": [
    {
     "name": "stdout",
     "output_type": "stream",
     "text": [
      "(75, 106, 3)\n",
      "(75, 106, 3)\n",
      "(75, 106, 3)\n",
      "(75, 106, 3)\n",
      "(75, 106, 3)\n",
      "(75, 106, 3)\n",
      "(75, 106, 3)\n",
      "(75, 106, 3)\n",
      "(75, 106, 3)\n",
      "(75, 106, 3)\n",
      "(75, 106, 3)\n",
      "(75, 106, 3)\n",
      "(75, 106, 3)\n",
      "(75, 106, 3)\n",
      "(75, 106, 3)\n",
      "(75, 106, 3)\n",
      "(75, 106, 3)\n",
      "(75, 106, 3)\n",
      "(75, 106, 3)\n",
      "(75, 106, 3)\n",
      "(75, 106, 3)\n",
      "(75, 106, 3)\n",
      "(75, 106, 3)\n",
      "(75, 106, 3)\n",
      "(75, 106, 3)\n",
      "(75, 106, 3)\n",
      "(75, 106, 3)\n",
      "(75, 106, 3)\n",
      "(75, 106, 3)\n",
      "(75, 106, 3)\n",
      "(75, 106, 3)\n",
      "(75, 106, 3)\n",
      "(75, 106, 3)\n",
      "(75, 106, 3)\n",
      "(75, 106, 3)\n",
      "(75, 106, 3)\n"
     ]
    }
   ],
   "source": [
    "motyl=Image.open('motyl.jpg')\n",
    "for i in range(36):\n",
    "    motylForm=motyl\n",
    "    motylForm=motylForm.rotate((i+1)*10)\n",
    "    motylForm.save('./zdj/motyl-'+str(i)+'.png')\n",
    "    \n",
    "    img_rgb = cv2.imread('kubus.jpg')\n",
    "    template = cv2.imread('zdj/motyl-'+str(i)+'.png')\n",
    "    w, h = template.shape[:-1]\n",
    "    \n",
    "    res = cv2.matchTemplate(img_rgb, template, cv2.TM_CCOEFF_NORMED)\n",
    "    threshold = 0.8\n",
    "    loc = np.where(res >= threshold)\n",
    "    \n",
    "    print(template.shape)\n",
    "    \n",
    "    for pt in zip(*loc[::-1]):  # Switch collumns and rows\n",
    "        cv2.rectangle(img_rgb, pt, (pt[0]+ h, pt[1]+ w),(0, 0, 255), 2)\n",
    "        \n",
    "    cv2.imwrite('result'+str(i)+'.png', img_rgb)\n",
    "    "
   ]
  },
  {
   "cell_type": "code",
   "execution_count": 266,
   "metadata": {},
   "outputs": [],
   "source": [
    "# img_rgb = cv2.imread('kubus.jpg')\n",
    "# template = cv2.imread('motyl.jpg')\n",
    "# w, h = template.shape[:-1]"
   ]
  },
  {
   "cell_type": "code",
   "execution_count": 267,
   "metadata": {},
   "outputs": [],
   "source": [
    "# template.shape"
   ]
  },
  {
   "cell_type": "code",
   "execution_count": 268,
   "metadata": {},
   "outputs": [],
   "source": [
    "\n",
    "# res = cv2.matchTemplate(img_rgb, template, cv2.TM_CCOEFF_NORMED)\n",
    "# threshold = 0.8\n",
    "# loc = np.where(res >= threshold)\n",
    "# for pt in zip(*loc[::-1]):  # Switch collumns and rows\n",
    "#     cv2.rectangle(img_rgb, pt, (pt[0]+ h, pt[1]+ w),(0, 0, 255), 2)\n",
    "\n",
    "# cv2.imwrite('result.png', img_rgb)"
   ]
  },
  {
   "cell_type": "code",
   "execution_count": null,
   "metadata": {},
   "outputs": [],
   "source": []
  }
 ],
 "metadata": {
  "kernelspec": {
   "display_name": "Python 3",
   "language": "python",
   "name": "python3"
  },
  "language_info": {
   "codemirror_mode": {
    "name": "ipython",
    "version": 3
   },
   "file_extension": ".py",
   "mimetype": "text/x-python",
   "name": "python",
   "nbconvert_exporter": "python",
   "pygments_lexer": "ipython3",
   "version": "3.7.4"
  }
 },
 "nbformat": 4,
 "nbformat_minor": 4
}
